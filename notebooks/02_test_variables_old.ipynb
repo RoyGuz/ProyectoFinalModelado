{
 "cells": [
  {
   "cell_type": "code",
   "execution_count": null,
   "id": "7bfe839e",
   "metadata": {},
   "outputs": [],
   "source": [
    "from pathlib import Path\n",
    "import sys\n",
    "\n",
    "BASE_DIR = Path().resolve()\n",
    "sys.path.append(str(BASE_DIR.parent / 'scr'))\n",
    "\n",
    "from dataset_generator import variables_old\n",
    "from solver_fd import temp_chapa_P, temp_chapa_P2\n",
    "from utils import graficarChapa, mostrar_tabla_variables_ordenada\n",
    "#   Valores fijos para el programa \n",
    "\n",
    "Nx = 50\n",
    "Ny = 50\n",
    "dx = 0.05\n",
    "dy = 0.05\n",
    "\n",
    "cond_contor, typ_cond_contorno, k, material_nombre,T_fusion=variables_old()\n",
    "\n",
    "T = temp_chapa_P2(cond_contor, Nx, Ny, typ_cond_contorno, dx, dy, k, hot_point=None)\n",
    "\n",
    "mostrar_tabla_variables_ordenada(cond_contor, typ_cond_contorno, material_nombre, hot_point=None)\n",
    "\n",
    "graficarChapa(T,Nx,Ny)"
   ]
  }
 ],
 "metadata": {
  "language_info": {
   "name": "python"
  }
 },
 "nbformat": 4,
 "nbformat_minor": 5
}
