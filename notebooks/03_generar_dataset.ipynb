{
 "cells": [
  {
   "cell_type": "code",
   "execution_count": 1,
   "id": "65cf53a6",
   "metadata": {},
   "outputs": [],
   "source": [
    "import sys\n",
    "sys.path.append('C:/Users/royer/Documents/ProyectoFinalModelado/scr')\n",
    "\n",
    "from dataset_generator import variables, generar_dataset"
   ]
  },
  {
   "cell_type": "code",
   "execution_count": 2,
   "id": "eb62d426",
   "metadata": {},
   "outputs": [
    {
     "name": "stdout",
     "output_type": "stream",
     "text": [
      "Se tienen 0/1000 muestras generadas.\n",
      "Se tienen 50/1000 muestras generadas.\n",
      "Se tienen 100/1000 muestras generadas.\n",
      "Se tienen 150/1000 muestras generadas.\n",
      "Se tienen 200/1000 muestras generadas.\n",
      "Se tienen 250/1000 muestras generadas.\n",
      "Se tienen 300/1000 muestras generadas.\n",
      "Se tienen 350/1000 muestras generadas.\n",
      "Se tienen 400/1000 muestras generadas.\n",
      "Se tienen 450/1000 muestras generadas.\n",
      "Se tienen 500/1000 muestras generadas.\n",
      "Se tienen 550/1000 muestras generadas.\n",
      "Se tienen 600/1000 muestras generadas.\n",
      "Se tienen 650/1000 muestras generadas.\n",
      "Se tienen 700/1000 muestras generadas.\n",
      "Se tienen 750/1000 muestras generadas.\n",
      "Se tienen 800/1000 muestras generadas.\n",
      "Se tienen 850/1000 muestras generadas.\n",
      "Se tienen 900/1000 muestras generadas.\n",
      "Se tienen 950/1000 muestras generadas.\n",
      "Se genero el Dataset completo con 1000 muestras y guardado en C:/Users/royer/Documents/ProyectoFinalModelado/data/dataset_1000_test.\n"
     ]
    }
   ],
   "source": [
    "Nx = 50\n",
    "Ny = 50\n",
    "dx = 0.05\n",
    "dy = 0.05\n",
    "\n",
    "generar_dataset(1000, Nx, Ny, dx, dy,'dataset_1000_test')"
   ]
  }
 ],
 "metadata": {
  "kernelspec": {
   "display_name": "Python 3",
   "language": "python",
   "name": "python3"
  },
  "language_info": {
   "codemirror_mode": {
    "name": "ipython",
    "version": 3
   },
   "file_extension": ".py",
   "mimetype": "text/x-python",
   "name": "python",
   "nbconvert_exporter": "python",
   "pygments_lexer": "ipython3",
   "version": "3.13.1"
  }
 },
 "nbformat": 4,
 "nbformat_minor": 5
}
