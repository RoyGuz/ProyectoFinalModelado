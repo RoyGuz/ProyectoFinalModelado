{
 "cells": [
  {
   "cell_type": "code",
   "execution_count": 1,
   "id": "65cf53a6",
   "metadata": {},
   "outputs": [],
   "source": [
    "import sys\n",
    "sys.path.append('C:/Users/royer/Documents/ProyectoFinalModelado/scr')\n",
    "\n",
    "from dataset_generator import variables, generar_dataset"
   ]
  },
  {
   "cell_type": "code",
   "execution_count": 2,
   "id": "eb62d426",
   "metadata": {},
   "outputs": [
    {
     "name": "stdout",
     "output_type": "stream",
     "text": [
      "Se tienen 0/1 muestras generadas.\n",
      "Se creo la carpeta: C:/Users/royer/Documents/ProyectoFinalModelado/data/dataset_1_test\n",
      "Se genero el Dataset completo con 1 muestras y guardado en C:/Users/royer/Documents/ProyectoFinalModelado/data/dataset_1_test.\n"
     ]
    }
   ],
   "source": [
    "Nx = 50\n",
    "Ny = 50\n",
    "dx = 0.05\n",
    "dy = 0.05\n",
    "\n",
    "generar_dataset(1, Nx, Ny, dx, dy,'dataset_1_test')"
   ]
  }
 ],
 "metadata": {
  "kernelspec": {
   "display_name": "Python 3",
   "language": "python",
   "name": "python3"
  },
  "language_info": {
   "codemirror_mode": {
    "name": "ipython",
    "version": 3
   },
   "file_extension": ".py",
   "mimetype": "text/x-python",
   "name": "python",
   "nbconvert_exporter": "python",
   "pygments_lexer": "ipython3",
   "version": "3.13.1"
  }
 },
 "nbformat": 4,
 "nbformat_minor": 5
}
