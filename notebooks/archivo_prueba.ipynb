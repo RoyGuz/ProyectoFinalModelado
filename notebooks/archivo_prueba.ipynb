{
 "cells": [
  {
   "cell_type": "code",
   "execution_count": 1,
   "id": "65cf53a6",
   "metadata": {},
   "outputs": [],
   "source": [
    "import sys\n",
    "sys.path.append('C:/Users/royer/Documents/ProyectoFinalModelado/scr')"
   ]
  },
  {
   "cell_type": "code",
   "execution_count": null,
   "id": "b567c527",
   "metadata": {},
   "outputs": [],
   "source": [
    "from solver_fd import temp_chapa_P\n",
    "from utils import graficarChapa\n",
    "\n",
    "# Prueba simple\n",
    "cond = {'A': 100, 'B': 0, 'C': 50, 'D': 75}\n",
    "tipos = {'A': 'temp', 'B': 'temp', 'C': 'temp', 'D': 'temp'}\n",
    "\n",
    "T = temp_chapa_P(cond, Nx=20, Ny=20, dx=1, dy=1, k=1)\n",
    "graficarChapa(T, Nx=20, Ny=20)\n"
   ]
  }
 ],
 "metadata": {
  "kernelspec": {
   "display_name": "Python 3",
   "language": "python",
   "name": "python3"
  },
  "language_info": {
   "codemirror_mode": {
    "name": "ipython",
    "version": 3
   },
   "file_extension": ".py",
   "mimetype": "text/x-python",
   "name": "python",
   "nbconvert_exporter": "python",
   "pygments_lexer": "ipython3",
   "version": "3.13.1"
  }
 },
 "nbformat": 4,
 "nbformat_minor": 5
}
